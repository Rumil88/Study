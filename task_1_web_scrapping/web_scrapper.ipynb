{
 "cells": [
  {
   "cell_type": "code",
   "execution_count": null,
   "metadata": {},
   "outputs": [
    {
     "ename": "",
     "evalue": "",
     "output_type": "error",
     "traceback": [
      "\u001b[1;31mRunning cells with 'Python 3.11.9' requires the ipykernel package.\n",
      "\u001b[1;31mRun the following command to install 'ipykernel' into the Python environment. \n",
      "\u001b[1;31mCommand: 'c:/Users/Laptopchik/AppData/Local/Microsoft/WindowsApps/python3.11.exe -m pip install ipykernel -U --user --force-reinstall'"
     ]
    }
   ],
   "source": [
    "# 1. Імпортуємо необхідні бібліотеки\n",
    "import requests\n",
    "from bs4 import BeautifulSoup\n",
    "\n",
    "# 2. Визначаємо URL вебсайту\n",
    "url = \"https://adl.nuou.org.ua/\"\n",
    "\n",
    "# 3. Виконуємо HTTP-запит для отримання HTML-коду сторінки\n",
    "response = requests.get(url)\n",
    "\n",
    "# 4. Перевіряємо, чи успішно отримано сторінку\n",
    "if response.status_code == 200:\n",
    "    # 5. Парсимо HTML-код за допомогою BeautifulSoup\n",
    "    soup = BeautifulSoup(response.content, 'html.parser')\n",
    "    \n",
    "    # 6. Збираємо заголовки новин, припускаючи, що вони містяться в тегах <h3> (це може змінюватися в залежності від структури сайту)\n",
    "    headlines = soup.find_all('h3')\n",
    "    \n",
    "    # 7. Виводимо кожен заголовок\n",
    "    for index, headline in enumerate(headlines, start=1):\n",
    "        print(f\"{index}. {headline.get_text(strip=True)}\")\n",
    "\n",
    "else:\n",
    "    print(\"Не вдалося отримати сторінку, перевірте URL чи з'єднання.\")\n"
   ]
  }
 ],
 "metadata": {
  "kernelspec": {
   "display_name": "Python 3",
   "language": "python",
   "name": "python3"
  },
  "language_info": {
   "name": "python",
   "version": "3.11.9"
  }
 },
 "nbformat": 4,
 "nbformat_minor": 2
}
